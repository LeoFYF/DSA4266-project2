{
  "nbformat": 4,
  "nbformat_minor": 0,
  "metadata": {
    "colab": {
      "provenance": []
    },
    "kernelspec": {
      "name": "python3",
      "display_name": "Python 3"
    },
    "language_info": {
      "name": "python"
    },
    "accelerator": "GPU",
    "gpuClass": "standard"
  },
  "cells": [
    {
      "cell_type": "code",
      "execution_count": 54,
      "metadata": {
        "id": "TqA6WdWzqnyu"
      },
      "outputs": [],
      "source": [
        "# general imports\n",
        "import pandas as pd\n",
        "\n",
        "from imblearn.over_sampling import SMOTE, SMOTENC\n",
        "\n",
        "from sklearn.preprocessing import LabelEncoder\n",
        "from sklearn.preprocessing import OrdinalEncoder\n",
        "from sklearn.feature_selection import SelectKBest\n",
        "from sklearn.feature_selection import chi2\n",
        "from matplotlib import pyplot\n",
        "\n",
        "from sklearn.model_selection import train_test_split\n",
        "from sklearn.feature_selection import f_classif\n",
        "\n",
        "from sklearn.preprocessing import MinMaxScaler\n",
        "from imblearn.under_sampling import NearMiss\n",
        "\n",
        "\n",
        "from sklearn.model_selection import RepeatedStratifiedKFold, StratifiedKFold\n",
        "from sklearn.model_selection import RandomizedSearchCV\n",
        "from sklearn.model_selection import GridSearchCV\n",
        "\n",
        "from xgboost import XGBClassifier\n",
        "\n",
        "from sklearn.model_selection import validation_curve, ShuffleSplit\n",
        "\n",
        "from sklearn import metrics\n",
        "import matplotlib.pyplot as plt\n",
        "\n",
        "from sklearn.metrics import precision_score, recall_score, accuracy_score, f1_score\n",
        "from sklearn import metrics\n",
        "import matplotlib.pyplot as plt"
      ]
    },
    {
      "cell_type": "code",
      "source": [
        "# mount to google drive to read in data\n",
        "from google.colab import drive\n",
        "drive.mount('/content/drive')"
      ],
      "metadata": {
        "colab": {
          "base_uri": "https://localhost:8080/"
        },
        "id": "6gMO3SrMrlKI",
        "outputId": "5a90be34-a1d9-4b4e-bd97-6c0e2310e209"
      },
      "execution_count": 2,
      "outputs": [
        {
          "output_type": "stream",
          "name": "stdout",
          "text": [
            "Mounted at /content/drive\n"
          ]
        }
      ]
    },
    {
      "cell_type": "code",
      "source": [
        "# read in the train data\n",
        "train_data = pd.read_csv('/content/drive//MyDrive/University/Year 4/DSA4266/DSA4266 Project 2/Data/fraudTrain.csv')\n",
        "\n",
        "# read in test data\n",
        "test_data = pd.read_csv('/content/drive//MyDrive/University/Year 4/DSA4266/DSA4266 Project 2/Data/fraudTest.csv')"
      ],
      "metadata": {
        "id": "adcIjUBNrmt1"
      },
      "execution_count": 23,
      "outputs": []
    },
    {
      "cell_type": "code",
      "source": [
        "combined_data = pd.concat([train_data, test_data])"
      ],
      "metadata": {
        "id": "e9LOQAkxPSFL"
      },
      "execution_count": 24,
      "outputs": []
    },
    {
      "cell_type": "code",
      "source": [
        "combined_data.shape"
      ],
      "metadata": {
        "colab": {
          "base_uri": "https://localhost:8080/"
        },
        "id": "Ifr5Na1bP9Of",
        "outputId": "b5802df1-9f3e-426f-f26f-ba685bc4db73"
      },
      "execution_count": 25,
      "outputs": [
        {
          "output_type": "execute_result",
          "data": {
            "text/plain": [
              "(1852394, 23)"
            ]
          },
          "metadata": {},
          "execution_count": 25
        }
      ]
    },
    {
      "cell_type": "markdown",
      "source": [
        "# Data Preparation"
      ],
      "metadata": {
        "id": "kYCfz1MQ67m_"
      }
    },
    {
      "cell_type": "markdown",
      "source": [
        "### Data Checks"
      ],
      "metadata": {
        "id": "enj5U8en8QKg"
      }
    },
    {
      "cell_type": "code",
      "source": [
        "combined_data.dtypes"
      ],
      "metadata": {
        "colab": {
          "base_uri": "https://localhost:8080/"
        },
        "id": "_Nk_6pmN95kf",
        "outputId": "8c2981f9-be49-44b1-f9a2-7942276e85c9"
      },
      "execution_count": 26,
      "outputs": [
        {
          "output_type": "execute_result",
          "data": {
            "text/plain": [
              "Unnamed: 0                 int64\n",
              "trans_date_trans_time     object\n",
              "cc_num                     int64\n",
              "merchant                  object\n",
              "category                  object\n",
              "amt                      float64\n",
              "first                     object\n",
              "last                      object\n",
              "gender                    object\n",
              "street                    object\n",
              "city                      object\n",
              "state                     object\n",
              "zip                        int64\n",
              "lat                      float64\n",
              "long                     float64\n",
              "city_pop                   int64\n",
              "job                       object\n",
              "dob                       object\n",
              "trans_num                 object\n",
              "unix_time                  int64\n",
              "merch_lat                float64\n",
              "merch_long               float64\n",
              "is_fraud                   int64\n",
              "dtype: object"
            ]
          },
          "metadata": {},
          "execution_count": 26
        }
      ]
    },
    {
      "cell_type": "code",
      "source": [
        "# explore column ranges\n",
        "combined_data.agg(['min','max'])"
      ],
      "metadata": {
        "colab": {
          "base_uri": "https://localhost:8080/",
          "height": 327
        },
        "id": "KMm0afzj7ID9",
        "outputId": "ea5c9cfb-b428-4c9a-8941-57683a375c8e"
      },
      "execution_count": 27,
      "outputs": [
        {
          "output_type": "execute_result",
          "data": {
            "text/plain": [
              "     Unnamed: 0 trans_date_trans_time               cc_num  \\\n",
              "min           0   2019-01-01 00:00:18          60416207185   \n",
              "max     1296674   2020-12-31 23:59:34  4992346398065154184   \n",
              "\n",
              "                merchant       category      amt    first    last gender  \\\n",
              "min  fraud_Abbott-Rogahn  entertainment      1.0    Aaron  Abbott      F   \n",
              "max     fraud_Zulauf LLC         travel  28948.9  Zachary  Zuniga      M   \n",
              "\n",
              "                         street  ...      lat      long  city_pop  \\\n",
              "min          000 Jennifer Mills  ...  20.0271 -165.6723        23   \n",
              "max  99736 Rose Shoals Apt. 504  ...  66.6933  -67.9503   2906700   \n",
              "\n",
              "                    job         dob                         trans_num  \\\n",
              "min  Academic librarian  1924-10-30  00000ecad06b03d3a8d34b4e30b5ce3b   \n",
              "max              Writer  2005-01-29  ffffef9d89e7d02d86efb1d2ba4de008   \n",
              "\n",
              "      unix_time  merch_lat  merch_long  is_fraud  \n",
              "min  1325376018  19.027422 -166.671575         0  \n",
              "max  1388534374  67.510267  -66.950902         1  \n",
              "\n",
              "[2 rows x 23 columns]"
            ],
            "text/html": [
              "\n",
              "  <div id=\"df-ca036a6f-46b6-4c48-bd85-e6e6dc83c76c\">\n",
              "    <div class=\"colab-df-container\">\n",
              "      <div>\n",
              "<style scoped>\n",
              "    .dataframe tbody tr th:only-of-type {\n",
              "        vertical-align: middle;\n",
              "    }\n",
              "\n",
              "    .dataframe tbody tr th {\n",
              "        vertical-align: top;\n",
              "    }\n",
              "\n",
              "    .dataframe thead th {\n",
              "        text-align: right;\n",
              "    }\n",
              "</style>\n",
              "<table border=\"1\" class=\"dataframe\">\n",
              "  <thead>\n",
              "    <tr style=\"text-align: right;\">\n",
              "      <th></th>\n",
              "      <th>Unnamed: 0</th>\n",
              "      <th>trans_date_trans_time</th>\n",
              "      <th>cc_num</th>\n",
              "      <th>merchant</th>\n",
              "      <th>category</th>\n",
              "      <th>amt</th>\n",
              "      <th>first</th>\n",
              "      <th>last</th>\n",
              "      <th>gender</th>\n",
              "      <th>street</th>\n",
              "      <th>...</th>\n",
              "      <th>lat</th>\n",
              "      <th>long</th>\n",
              "      <th>city_pop</th>\n",
              "      <th>job</th>\n",
              "      <th>dob</th>\n",
              "      <th>trans_num</th>\n",
              "      <th>unix_time</th>\n",
              "      <th>merch_lat</th>\n",
              "      <th>merch_long</th>\n",
              "      <th>is_fraud</th>\n",
              "    </tr>\n",
              "  </thead>\n",
              "  <tbody>\n",
              "    <tr>\n",
              "      <th>min</th>\n",
              "      <td>0</td>\n",
              "      <td>2019-01-01 00:00:18</td>\n",
              "      <td>60416207185</td>\n",
              "      <td>fraud_Abbott-Rogahn</td>\n",
              "      <td>entertainment</td>\n",
              "      <td>1.0</td>\n",
              "      <td>Aaron</td>\n",
              "      <td>Abbott</td>\n",
              "      <td>F</td>\n",
              "      <td>000 Jennifer Mills</td>\n",
              "      <td>...</td>\n",
              "      <td>20.0271</td>\n",
              "      <td>-165.6723</td>\n",
              "      <td>23</td>\n",
              "      <td>Academic librarian</td>\n",
              "      <td>1924-10-30</td>\n",
              "      <td>00000ecad06b03d3a8d34b4e30b5ce3b</td>\n",
              "      <td>1325376018</td>\n",
              "      <td>19.027422</td>\n",
              "      <td>-166.671575</td>\n",
              "      <td>0</td>\n",
              "    </tr>\n",
              "    <tr>\n",
              "      <th>max</th>\n",
              "      <td>1296674</td>\n",
              "      <td>2020-12-31 23:59:34</td>\n",
              "      <td>4992346398065154184</td>\n",
              "      <td>fraud_Zulauf LLC</td>\n",
              "      <td>travel</td>\n",
              "      <td>28948.9</td>\n",
              "      <td>Zachary</td>\n",
              "      <td>Zuniga</td>\n",
              "      <td>M</td>\n",
              "      <td>99736 Rose Shoals Apt. 504</td>\n",
              "      <td>...</td>\n",
              "      <td>66.6933</td>\n",
              "      <td>-67.9503</td>\n",
              "      <td>2906700</td>\n",
              "      <td>Writer</td>\n",
              "      <td>2005-01-29</td>\n",
              "      <td>ffffef9d89e7d02d86efb1d2ba4de008</td>\n",
              "      <td>1388534374</td>\n",
              "      <td>67.510267</td>\n",
              "      <td>-66.950902</td>\n",
              "      <td>1</td>\n",
              "    </tr>\n",
              "  </tbody>\n",
              "</table>\n",
              "<p>2 rows × 23 columns</p>\n",
              "</div>\n",
              "      <button class=\"colab-df-convert\" onclick=\"convertToInteractive('df-ca036a6f-46b6-4c48-bd85-e6e6dc83c76c')\"\n",
              "              title=\"Convert this dataframe to an interactive table.\"\n",
              "              style=\"display:none;\">\n",
              "        \n",
              "  <svg xmlns=\"http://www.w3.org/2000/svg\" height=\"24px\"viewBox=\"0 0 24 24\"\n",
              "       width=\"24px\">\n",
              "    <path d=\"M0 0h24v24H0V0z\" fill=\"none\"/>\n",
              "    <path d=\"M18.56 5.44l.94 2.06.94-2.06 2.06-.94-2.06-.94-.94-2.06-.94 2.06-2.06.94zm-11 1L8.5 8.5l.94-2.06 2.06-.94-2.06-.94L8.5 2.5l-.94 2.06-2.06.94zm10 10l.94 2.06.94-2.06 2.06-.94-2.06-.94-.94-2.06-.94 2.06-2.06.94z\"/><path d=\"M17.41 7.96l-1.37-1.37c-.4-.4-.92-.59-1.43-.59-.52 0-1.04.2-1.43.59L10.3 9.45l-7.72 7.72c-.78.78-.78 2.05 0 2.83L4 21.41c.39.39.9.59 1.41.59.51 0 1.02-.2 1.41-.59l7.78-7.78 2.81-2.81c.8-.78.8-2.07 0-2.86zM5.41 20L4 18.59l7.72-7.72 1.47 1.35L5.41 20z\"/>\n",
              "  </svg>\n",
              "      </button>\n",
              "      \n",
              "  <style>\n",
              "    .colab-df-container {\n",
              "      display:flex;\n",
              "      flex-wrap:wrap;\n",
              "      gap: 12px;\n",
              "    }\n",
              "\n",
              "    .colab-df-convert {\n",
              "      background-color: #E8F0FE;\n",
              "      border: none;\n",
              "      border-radius: 50%;\n",
              "      cursor: pointer;\n",
              "      display: none;\n",
              "      fill: #1967D2;\n",
              "      height: 32px;\n",
              "      padding: 0 0 0 0;\n",
              "      width: 32px;\n",
              "    }\n",
              "\n",
              "    .colab-df-convert:hover {\n",
              "      background-color: #E2EBFA;\n",
              "      box-shadow: 0px 1px 2px rgba(60, 64, 67, 0.3), 0px 1px 3px 1px rgba(60, 64, 67, 0.15);\n",
              "      fill: #174EA6;\n",
              "    }\n",
              "\n",
              "    [theme=dark] .colab-df-convert {\n",
              "      background-color: #3B4455;\n",
              "      fill: #D2E3FC;\n",
              "    }\n",
              "\n",
              "    [theme=dark] .colab-df-convert:hover {\n",
              "      background-color: #434B5C;\n",
              "      box-shadow: 0px 1px 3px 1px rgba(0, 0, 0, 0.15);\n",
              "      filter: drop-shadow(0px 1px 2px rgba(0, 0, 0, 0.3));\n",
              "      fill: #FFFFFF;\n",
              "    }\n",
              "  </style>\n",
              "\n",
              "      <script>\n",
              "        const buttonEl =\n",
              "          document.querySelector('#df-ca036a6f-46b6-4c48-bd85-e6e6dc83c76c button.colab-df-convert');\n",
              "        buttonEl.style.display =\n",
              "          google.colab.kernel.accessAllowed ? 'block' : 'none';\n",
              "\n",
              "        async function convertToInteractive(key) {\n",
              "          const element = document.querySelector('#df-ca036a6f-46b6-4c48-bd85-e6e6dc83c76c');\n",
              "          const dataTable =\n",
              "            await google.colab.kernel.invokeFunction('convertToInteractive',\n",
              "                                                     [key], {});\n",
              "          if (!dataTable) return;\n",
              "\n",
              "          const docLinkHtml = 'Like what you see? Visit the ' +\n",
              "            '<a target=\"_blank\" href=https://colab.research.google.com/notebooks/data_table.ipynb>data table notebook</a>'\n",
              "            + ' to learn more about interactive tables.';\n",
              "          element.innerHTML = '';\n",
              "          dataTable['output_type'] = 'display_data';\n",
              "          await google.colab.output.renderOutput(dataTable, element);\n",
              "          const docLink = document.createElement('div');\n",
              "          docLink.innerHTML = docLinkHtml;\n",
              "          element.appendChild(docLink);\n",
              "        }\n",
              "      </script>\n",
              "    </div>\n",
              "  </div>\n",
              "  "
            ]
          },
          "metadata": {},
          "execution_count": 27
        }
      ]
    },
    {
      "cell_type": "code",
      "source": [
        "# explore which columns has nan values\n",
        "combined_data.isna().sum()"
      ],
      "metadata": {
        "colab": {
          "base_uri": "https://localhost:8080/"
        },
        "id": "l1UmHlfe7UNP",
        "outputId": "d4997322-7fe1-486b-93e7-774b79c90dd7"
      },
      "execution_count": 28,
      "outputs": [
        {
          "output_type": "execute_result",
          "data": {
            "text/plain": [
              "Unnamed: 0               0\n",
              "trans_date_trans_time    0\n",
              "cc_num                   0\n",
              "merchant                 0\n",
              "category                 0\n",
              "amt                      0\n",
              "first                    0\n",
              "last                     0\n",
              "gender                   0\n",
              "street                   0\n",
              "city                     0\n",
              "state                    0\n",
              "zip                      0\n",
              "lat                      0\n",
              "long                     0\n",
              "city_pop                 0\n",
              "job                      0\n",
              "dob                      0\n",
              "trans_num                0\n",
              "unix_time                0\n",
              "merch_lat                0\n",
              "merch_long               0\n",
              "is_fraud                 0\n",
              "dtype: int64"
            ]
          },
          "metadata": {},
          "execution_count": 28
        }
      ]
    },
    {
      "cell_type": "markdown",
      "source": [
        "### Minor Data Edits"
      ],
      "metadata": {
        "id": "H-c4yr3c9PgD"
      }
    },
    {
      "cell_type": "code",
      "source": [
        "# remove unique identifier column\n",
        "combined_data = combined_data.iloc[: , 1:]\n",
        "\n",
        "\n",
        "# remove unique trans_num column\n",
        "combined_data.drop(['trans_num', 'trans_date_trans_time', 'dob'], axis = 1, inplace = True)"
      ],
      "metadata": {
        "id": "YZMrYE3ArqEu"
      },
      "execution_count": 29,
      "outputs": []
    },
    {
      "cell_type": "markdown",
      "source": [
        "### Label Encoding for Categorical Data"
      ],
      "metadata": {
        "id": "0uxvXSbwW0pl"
      }
    },
    {
      "cell_type": "code",
      "source": [
        "# we choose to do label encoding as some of our categorical data has many \"categories\" (eg. first and last name)\n",
        "class MultiColumnLabelEncoder:\n",
        "    def __init__(self,columns = None):\n",
        "        self.columns = columns # array of column names to encode\n",
        "\n",
        "    def fit(self,X,y=None):\n",
        "        return self # not relevant here\n",
        "\n",
        "    def transform(self,X):\n",
        "        '''\n",
        "        Transforms columns of X specified in self.columns using\n",
        "        LabelEncoder(). If no columns specified, transforms all\n",
        "        columns in X.\n",
        "        '''\n",
        "        output = X.copy()\n",
        "        if self.columns is not None:\n",
        "            for col in self.columns:\n",
        "                output[col] = LabelEncoder().fit_transform(output[col])\n",
        "        else:\n",
        "            for colname,col in output.iteritems():\n",
        "                output[colname] = LabelEncoder().fit_transform(col)\n",
        "        return output\n",
        "\n",
        "    def fit_transform(self,X,y=None):\n",
        "        return self.fit(X,y).transform(X)"
      ],
      "metadata": {
        "id": "Yc-aiWGHXIE6"
      },
      "execution_count": 30,
      "outputs": []
    },
    {
      "cell_type": "code",
      "source": [
        "# label encoding\n",
        "combined_data = MultiColumnLabelEncoder(columns = ['merchant', 'category', 'first', \n",
        "                                                   'last', 'gender', 'street', \n",
        "                                                   'city', 'state', 'job']).fit_transform(combined_data)"
      ],
      "metadata": {
        "id": "nhfTUytLbETf"
      },
      "execution_count": 31,
      "outputs": []
    },
    {
      "cell_type": "markdown",
      "source": [
        "### Splitting of X and Y columns"
      ],
      "metadata": {
        "id": "cDeMzpBt9USS"
      }
    },
    {
      "cell_type": "code",
      "source": [
        "X = combined_data.copy()\n",
        "X.drop(['is_fraud'], axis = 1, inplace = True)\n",
        "y = combined_data[['is_fraud']]\n",
        "\n",
        "X_train, X_test, y_train, y_test = train_test_split(X, y, test_size=0.005, random_state=42)\n",
        "\n",
        "print(X_train.shape, y_train.shape)\n",
        "print(X_test.shape, y_test.shape)"
      ],
      "metadata": {
        "colab": {
          "base_uri": "https://localhost:8080/"
        },
        "id": "p59Axe-jbwsi",
        "outputId": "0ad5bad8-a17c-4416-f062-27443582b58f"
      },
      "execution_count": 32,
      "outputs": [
        {
          "output_type": "stream",
          "name": "stdout",
          "text": [
            "(1843132, 18) (1843132, 1)\n",
            "(9262, 18) (9262, 1)\n"
          ]
        }
      ]
    },
    {
      "cell_type": "markdown",
      "source": [
        "### Feature Importance"
      ],
      "metadata": {
        "id": "-y4VX_6ZAA2Q"
      }
    },
    {
      "cell_type": "markdown",
      "source": [
        "Categorical"
      ],
      "metadata": {
        "id": "1BR_i_E9iiW3"
      }
    },
    {
      "cell_type": "code",
      "source": [
        "# get categorical data\n",
        "category = ['merchant', 'category', 'first', 'last', 'gender', 'street', 'city', 'state', 'job']\n",
        "\n",
        "cat_X_train = X_train[category]\n",
        "cat_X_test = X_test[category]"
      ],
      "metadata": {
        "id": "VJULdnocCtxF"
      },
      "execution_count": 33,
      "outputs": []
    },
    {
      "cell_type": "code",
      "source": [
        "# feature selection\n",
        "def select_features(train_X, train_Y, test_X):\n",
        " fs = SelectKBest(score_func=chi2, k='all')\n",
        " fs.fit(train_X, train_Y)\n",
        " X_train_fs = fs.transform(train_X)\n",
        " X_test_fs = fs.transform(test_X)\n",
        " return X_train_fs, X_test_fs, fs"
      ],
      "metadata": {
        "id": "eKRTj9euAQaX"
      },
      "execution_count": 34,
      "outputs": []
    },
    {
      "cell_type": "code",
      "source": [
        "# feature selection\n",
        "X_train_fs, X_test_fs, fs = select_features(cat_X_train, y_train, cat_X_test)\n",
        "# what are scores for the features\n",
        "for i in range(len(fs.scores_)):\n",
        " print(category[i] + ': %f' % (fs.scores_[i]))\n",
        "# plot the scores\n",
        "pyplot.bar([i for i in range(len(fs.scores_))], fs.scores_)\n",
        "pyplot.show()"
      ],
      "metadata": {
        "colab": {
          "base_uri": "https://localhost:8080/",
          "height": 426
        },
        "id": "HWXiHfH0AEuc",
        "outputId": "334bdc47-c043-48bd-eef6-d7c43410f560"
      },
      "execution_count": 35,
      "outputs": [
        {
          "output_type": "stream",
          "name": "stdout",
          "text": [
            "merchant: 49.265316\n",
            "category: 1693.243774\n",
            "first: 785.300534\n",
            "last: 16.085470\n",
            "gender: 34.043084\n",
            "street: 122.845188\n",
            "city: 397.272738\n",
            "state: 1.415372\n",
            "job: 274.221125\n"
          ]
        },
        {
          "output_type": "display_data",
          "data": {
            "text/plain": [
              "<Figure size 432x288 with 1 Axes>"
            ],
            "image/png": "[encoded data removed]"
          },
          "metadata": {
            "needs_background": "light"
          }
        }
      ]
    },
    {
      "cell_type": "markdown",
      "source": [
        "Numerical"
      ],
      "metadata": {
        "id": "BbuDAGoXimC3"
      }
    },
    {
      "cell_type": "code",
      "source": [
        "# get numerical data\n",
        "category = ['merchant', 'category', 'first', 'last', 'gender', 'street', 'city', 'state', 'job']\n",
        "\n",
        "num_X_train = X_train.copy()\n",
        "num_X_train.drop(category, axis = 1, inplace = True)\n",
        "num_X_test = X_test.copy()\n",
        "num_X_test.drop(category, axis = 1, inplace = True)"
      ],
      "metadata": {
        "id": "8TCp_J_ejuQd"
      },
      "execution_count": 36,
      "outputs": []
    },
    {
      "cell_type": "code",
      "source": [
        "# feature selection\n",
        "def select_features(X_train, y_train, X_test):\n",
        " fs = SelectKBest(score_func=f_classif, k='all')\n",
        " fs.fit(X_train, y_train)\n",
        " X_train_fs = fs.transform(X_train)\n",
        " X_test_fs = fs.transform(X_test)\n",
        " return X_train_fs, X_test_fs, fs"
      ],
      "metadata": {
        "id": "AwP1AMysioj8"
      },
      "execution_count": 37,
      "outputs": []
    },
    {
      "cell_type": "code",
      "source": [
        "# feature selection\n",
        "X_train_fs, X_test_fs, fs = select_features(num_X_train, y_train, num_X_test)\n",
        "# what are scores for the features\n",
        "for i in range(len(fs.scores_)):\n",
        " print(num_X_train.columns[i] + ': %f' % (fs.scores_[i]))\n",
        "# plot the scores\n",
        "pyplot.bar([i for i in range(len(fs.scores_))], fs.scores_)\n",
        "pyplot.show()"
      ],
      "metadata": {
        "colab": {
          "base_uri": "https://localhost:8080/",
          "height": 481
        },
        "id": "f0GFaxxLjqD5",
        "outputId": "c2bf3747-fad3-435b-f76e-45b7e3d95cdb"
      },
      "execution_count": 38,
      "outputs": [
        {
          "output_type": "stream",
          "name": "stderr",
          "text": [
            "/usr/local/lib/python3.9/dist-packages/sklearn/utils/validation.py:1143: DataConversionWarning: A column-vector y was passed when a 1d array was expected. Please change the shape of y to (n_samples, ), for example using ravel().\n",
            "  y = column_or_1d(y, warn=True)\n"
          ]
        },
        {
          "output_type": "stream",
          "name": "stdout",
          "text": [
            "cc_num: 2.579186\n",
            "amt: 84347.726776\n",
            "zip: 8.419360\n",
            "lat: 15.048863\n",
            "long: 1.817052\n",
            "city_pop: 0.144141\n",
            "unix_time: 326.752473\n",
            "merch_lat: 13.871574\n",
            "merch_long: 1.743455\n"
          ]
        },
        {
          "output_type": "display_data",
          "data": {
            "text/plain": [
              "<Figure size 432x288 with 1 Axes>"
            ],
            "image/png": "[encoded data removed]"
          },
          "metadata": {
            "needs_background": "light"
          }
        }
      ]
    },
    {
      "cell_type": "markdown",
      "source": [
        "### NearMiss to balance the data"
      ],
      "metadata": {
        "id": "M4wyfGfC-Dnq"
      }
    },
    {
      "cell_type": "code",
      "source": [
        "# check if the data is balanced\n",
        "print(len(y_train[y_train[\"is_fraud\"] == 1]))\n",
        "print(len(y_train[y_train[\"is_fraud\"] == 0]))"
      ],
      "metadata": {
        "colab": {
          "base_uri": "https://localhost:8080/"
        },
        "id": "ZLDscNaMoAyv",
        "outputId": "678a1900-2ab9-4dee-b744-e74f9c17637d"
      },
      "execution_count": 39,
      "outputs": [
        {
          "output_type": "stream",
          "name": "stdout",
          "text": [
            "9601\n",
            "1833531\n"
          ]
        }
      ]
    },
    {
      "cell_type": "code",
      "source": [
        "# define the undersampling method\n",
        "undersample = NearMiss(version=1, n_neighbors=3)\n",
        "# transform the dataset\n",
        "X_train, y_train = undersample.fit_resample(X_train, y_train)"
      ],
      "metadata": {
        "id": "FOLiQ3z_NcYP"
      },
      "execution_count": 41,
      "outputs": []
    },
    {
      "cell_type": "code",
      "source": [
        "# check data count\n",
        "print(len(y_train[y_train[\"is_fraud\"] == 1]))\n",
        "print(len(y_train[y_train[\"is_fraud\"] == 0]))"
      ],
      "metadata": {
        "colab": {
          "base_uri": "https://localhost:8080/"
        },
        "id": "6iEFR2QMRQfR",
        "outputId": "2e13e4d7-f960-498b-e4aa-acf4a82347a0"
      },
      "execution_count": 42,
      "outputs": [
        {
          "output_type": "stream",
          "name": "stdout",
          "text": [
            "9601\n",
            "9601\n"
          ]
        }
      ]
    },
    {
      "cell_type": "markdown",
      "source": [
        "### Scaling the data"
      ],
      "metadata": {
        "id": "qrH8ScEqSro3"
      }
    },
    {
      "cell_type": "code",
      "source": [
        "# scale the data using minmax scaler\n",
        "columns = X_train.columns\n",
        "scaler = MinMaxScaler()\n",
        "scaler.fit(X_train)\n",
        "X_train = scaler.transform(X_train)\n",
        "X_train = pd.DataFrame(X_train, columns = columns)\n",
        "X_test = scaler.transform(X_test)\n",
        "X_test = pd.DataFrame(X_test, columns = columns)"
      ],
      "metadata": {
        "id": "eAsPfL2BS2t1"
      },
      "execution_count": 43,
      "outputs": []
    },
    {
      "cell_type": "markdown",
      "source": [
        "### Classification Model"
      ],
      "metadata": {
        "id": "H5i2FVTBTDGN"
      }
    },
    {
      "cell_type": "code",
      "source": [
        "# select the important columns for xgboost\n",
        "selected_col = [\"category\", \"first\", \"city\", \"job\", \"amt\", \"unix_time\"]\n",
        "\n",
        "X_train = X_train[selected_col]\n",
        "X_test = X_test[selected_col]\n",
        "\n",
        "print(X_train.shape)\n",
        "print(X_test.shape)"
      ],
      "metadata": {
        "colab": {
          "base_uri": "https://localhost:8080/"
        },
        "id": "ia-hXHSVTOsm",
        "outputId": "98e91efb-1faa-436e-bd6c-a00a15eb6544"
      },
      "execution_count": 44,
      "outputs": [
        {
          "output_type": "stream",
          "name": "stdout",
          "text": [
            "(19202, 6)\n",
            "(9262, 6)\n"
          ]
        }
      ]
    },
    {
      "cell_type": "code",
      "source": [
        "# tune the model\n",
        "xgb_class = XGBClassifier()\n",
        "skf = StratifiedKFold(n_splits=5, shuffle = True, random_state = 1001)\n",
        "\n",
        "parameters = {\"max_depth\": [1, 2, 3, 4, 5, 6, 7, 8, 9, 10],\n",
        "              \"subsample\": [i/10.0 for i in range(1,11)],\n",
        "              \"learning_rate\": [0.1, 0.05, 0.01, 0.005, 0.001],\n",
        "              \"gamma\" : [0.01, 0.1, 0.5, 1, 2],\n",
        "              \"colsample_bytree\": [i/10.0 for i in range(1,11)],\n",
        "              \"reg_alpha\":[0, 0.001, 0.005, 0.01, 0.05],\n",
        "              \"min_child_weight\": [1, 2, 3, 4, 5],\n",
        "              \"n_estimators\": [i for i in range(500, 2001, 100)]}\n",
        "\n",
        "xgb_rscv = RandomizedSearchCV(xgb_class, param_distributions = parameters, scoring = \"roc_auc\", cv = skf.split(X_train, y_train.values.ravel()), verbose = 3)\n",
        "model_xgboost = xgb_rscv.fit(X_train, y_train.values.ravel())"
      ],
      "metadata": {
        "colab": {
          "base_uri": "https://localhost:8080/"
        },
        "id": "YZ6Ef3rGTGco",
        "outputId": "8727335b-6a20-42b3-8f4c-33b4c63ad7f5"
      },
      "execution_count": 45,
      "outputs": [
        {
          "output_type": "stream",
          "name": "stdout",
          "text": [
            "Fitting 5 folds for each of 10 candidates, totalling 50 fits\n",
            "[CV 1/5] END colsample_bytree=0.8, gamma=2, learning_rate=0.01, max_depth=10, min_child_weight=1, n_estimators=1700, reg_alpha=0, subsample=0.7;, score=0.995 total time=  34.9s\n",
            "[CV 2/5] END colsample_bytree=0.8, gamma=2, learning_rate=0.01, max_depth=10, min_child_weight=1, n_estimators=1700, reg_alpha=0, subsample=0.7;, score=0.996 total time=  28.1s\n",
            "[CV 3/5] END colsample_bytree=0.8, gamma=2, learning_rate=0.01, max_depth=10, min_child_weight=1, n_estimators=1700, reg_alpha=0, subsample=0.7;, score=0.994 total time=  30.7s\n",
            "[CV 4/5] END colsample_bytree=0.8, gamma=2, learning_rate=0.01, max_depth=10, min_child_weight=1, n_estimators=1700, reg_alpha=0, subsample=0.7;, score=0.995 total time=  28.2s\n",
            "[CV 5/5] END colsample_bytree=0.8, gamma=2, learning_rate=0.01, max_depth=10, min_child_weight=1, n_estimators=1700, reg_alpha=0, subsample=0.7;, score=0.996 total time=  28.3s\n",
            "[CV 1/5] END colsample_bytree=0.1, gamma=0.01, learning_rate=0.1, max_depth=1, min_child_weight=1, n_estimators=1800, reg_alpha=0.005, subsample=1.0;, score=0.972 total time=   2.1s\n",
            "[CV 2/5] END colsample_bytree=0.1, gamma=0.01, learning_rate=0.1, max_depth=1, min_child_weight=1, n_estimators=1800, reg_alpha=0.005, subsample=1.0;, score=0.971 total time=   4.3s\n",
            "[CV 3/5] END colsample_bytree=0.1, gamma=0.01, learning_rate=0.1, max_depth=1, min_child_weight=1, n_estimators=1800, reg_alpha=0.005, subsample=1.0;, score=0.971 total time=   2.1s\n",
            "[CV 4/5] END colsample_bytree=0.1, gamma=0.01, learning_rate=0.1, max_depth=1, min_child_weight=1, n_estimators=1800, reg_alpha=0.005, subsample=1.0;, score=0.969 total time=   2.1s\n",
            "[CV 5/5] END colsample_bytree=0.1, gamma=0.01, learning_rate=0.1, max_depth=1, min_child_weight=1, n_estimators=1800, reg_alpha=0.005, subsample=1.0;, score=0.970 total time=   2.1s\n",
            "[CV 1/5] END colsample_bytree=0.4, gamma=2, learning_rate=0.05, max_depth=1, min_child_weight=1, n_estimators=2000, reg_alpha=0.01, subsample=1.0;, score=0.972 total time=   5.0s\n",
            "[CV 2/5] END colsample_bytree=0.4, gamma=2, learning_rate=0.05, max_depth=1, min_child_weight=1, n_estimators=2000, reg_alpha=0.01, subsample=1.0;, score=0.970 total time=   2.6s\n",
            "[CV 3/5] END colsample_bytree=0.4, gamma=2, learning_rate=0.05, max_depth=1, min_child_weight=1, n_estimators=2000, reg_alpha=0.01, subsample=1.0;, score=0.971 total time=   2.7s\n",
            "[CV 4/5] END colsample_bytree=0.4, gamma=2, learning_rate=0.05, max_depth=1, min_child_weight=1, n_estimators=2000, reg_alpha=0.01, subsample=1.0;, score=0.968 total time=   2.6s\n",
            "[CV 5/5] END colsample_bytree=0.4, gamma=2, learning_rate=0.05, max_depth=1, min_child_weight=1, n_estimators=2000, reg_alpha=0.01, subsample=1.0;, score=0.970 total time=   5.0s\n",
            "[CV 1/5] END colsample_bytree=0.6, gamma=1, learning_rate=0.01, max_depth=8, min_child_weight=3, n_estimators=2000, reg_alpha=0.001, subsample=0.2;, score=0.994 total time=  15.6s\n",
            "[CV 2/5] END colsample_bytree=0.6, gamma=1, learning_rate=0.01, max_depth=8, min_child_weight=3, n_estimators=2000, reg_alpha=0.001, subsample=0.2;, score=0.993 total time=  15.6s\n",
            "[CV 3/5] END colsample_bytree=0.6, gamma=1, learning_rate=0.01, max_depth=8, min_child_weight=3, n_estimators=2000, reg_alpha=0.001, subsample=0.2;, score=0.992 total time=  15.4s\n",
            "[CV 4/5] END colsample_bytree=0.6, gamma=1, learning_rate=0.01, max_depth=8, min_child_weight=3, n_estimators=2000, reg_alpha=0.001, subsample=0.2;, score=0.993 total time=  18.0s\n",
            "[CV 5/5] END colsample_bytree=0.6, gamma=1, learning_rate=0.01, max_depth=8, min_child_weight=3, n_estimators=2000, reg_alpha=0.001, subsample=0.2;, score=0.994 total time=  15.7s\n",
            "[CV 1/5] END colsample_bytree=0.8, gamma=2, learning_rate=0.1, max_depth=9, min_child_weight=4, n_estimators=2000, reg_alpha=0, subsample=0.7;, score=0.995 total time=  26.1s\n",
            "[CV 2/5] END colsample_bytree=0.8, gamma=2, learning_rate=0.1, max_depth=9, min_child_weight=4, n_estimators=2000, reg_alpha=0, subsample=0.7;, score=0.996 total time=  28.0s\n",
            "[CV 3/5] END colsample_bytree=0.8, gamma=2, learning_rate=0.1, max_depth=9, min_child_weight=4, n_estimators=2000, reg_alpha=0, subsample=0.7;, score=0.994 total time=  26.1s\n",
            "[CV 4/5] END colsample_bytree=0.8, gamma=2, learning_rate=0.1, max_depth=9, min_child_weight=4, n_estimators=2000, reg_alpha=0, subsample=0.7;, score=0.995 total time=  26.1s\n",
            "[CV 5/5] END colsample_bytree=0.8, gamma=2, learning_rate=0.1, max_depth=9, min_child_weight=4, n_estimators=2000, reg_alpha=0, subsample=0.7;, score=0.996 total time=  28.7s\n",
            "[CV 1/5] END colsample_bytree=0.7, gamma=2, learning_rate=0.1, max_depth=3, min_child_weight=5, n_estimators=600, reg_alpha=0.01, subsample=0.1;, score=0.990 total time=   1.7s\n",
            "[CV 2/5] END colsample_bytree=0.7, gamma=2, learning_rate=0.1, max_depth=3, min_child_weight=5, n_estimators=600, reg_alpha=0.01, subsample=0.1;, score=0.986 total time=   1.7s\n",
            "[CV 3/5] END colsample_bytree=0.7, gamma=2, learning_rate=0.1, max_depth=3, min_child_weight=5, n_estimators=600, reg_alpha=0.01, subsample=0.1;, score=0.988 total time=   1.7s\n",
            "[CV 4/5] END colsample_bytree=0.7, gamma=2, learning_rate=0.1, max_depth=3, min_child_weight=5, n_estimators=600, reg_alpha=0.01, subsample=0.1;, score=0.987 total time=   1.6s\n",
            "[CV 5/5] END colsample_bytree=0.7, gamma=2, learning_rate=0.1, max_depth=3, min_child_weight=5, n_estimators=600, reg_alpha=0.01, subsample=0.1;, score=0.989 total time=   1.7s\n",
            "[CV 1/5] END colsample_bytree=0.4, gamma=0.1, learning_rate=0.005, max_depth=1, min_child_weight=1, n_estimators=600, reg_alpha=0.005, subsample=0.8;, score=0.873 total time=   1.1s\n",
            "[CV 2/5] END colsample_bytree=0.4, gamma=0.1, learning_rate=0.005, max_depth=1, min_child_weight=1, n_estimators=600, reg_alpha=0.005, subsample=0.8;, score=0.877 total time=   3.4s\n",
            "[CV 3/5] END colsample_bytree=0.4, gamma=0.1, learning_rate=0.005, max_depth=1, min_child_weight=1, n_estimators=600, reg_alpha=0.005, subsample=0.8;, score=0.885 total time=   1.1s\n",
            "[CV 4/5] END colsample_bytree=0.4, gamma=0.1, learning_rate=0.005, max_depth=1, min_child_weight=1, n_estimators=600, reg_alpha=0.005, subsample=0.8;, score=0.882 total time=   1.1s\n",
            "[CV 5/5] END colsample_bytree=0.4, gamma=0.1, learning_rate=0.005, max_depth=1, min_child_weight=1, n_estimators=600, reg_alpha=0.005, subsample=0.8;, score=0.887 total time=   1.1s\n",
            "[CV 1/5] END colsample_bytree=0.8, gamma=0.01, learning_rate=0.01, max_depth=5, min_child_weight=4, n_estimators=1800, reg_alpha=0.005, subsample=0.8;, score=0.994 total time=  15.0s\n",
            "[CV 2/5] END colsample_bytree=0.8, gamma=0.01, learning_rate=0.01, max_depth=5, min_child_weight=4, n_estimators=1800, reg_alpha=0.005, subsample=0.8;, score=0.995 total time=  15.0s\n",
            "[CV 3/5] END colsample_bytree=0.8, gamma=0.01, learning_rate=0.01, max_depth=5, min_child_weight=4, n_estimators=1800, reg_alpha=0.005, subsample=0.8;, score=0.993 total time=  17.4s\n",
            "[CV 4/5] END colsample_bytree=0.8, gamma=0.01, learning_rate=0.01, max_depth=5, min_child_weight=4, n_estimators=1800, reg_alpha=0.005, subsample=0.8;, score=0.994 total time=  14.8s\n",
            "[CV 5/5] END colsample_bytree=0.8, gamma=0.01, learning_rate=0.01, max_depth=5, min_child_weight=4, n_estimators=1800, reg_alpha=0.005, subsample=0.8;, score=0.995 total time=  15.2s\n",
            "[CV 1/5] END colsample_bytree=1.0, gamma=1, learning_rate=0.01, max_depth=2, min_child_weight=4, n_estimators=1300, reg_alpha=0, subsample=0.5;, score=0.980 total time=   4.8s\n",
            "[CV 2/5] END colsample_bytree=1.0, gamma=1, learning_rate=0.01, max_depth=2, min_child_weight=4, n_estimators=1300, reg_alpha=0, subsample=0.5;, score=0.980 total time=   7.1s\n",
            "[CV 3/5] END colsample_bytree=1.0, gamma=1, learning_rate=0.01, max_depth=2, min_child_weight=4, n_estimators=1300, reg_alpha=0, subsample=0.5;, score=0.979 total time=   4.8s\n",
            "[CV 4/5] END colsample_bytree=1.0, gamma=1, learning_rate=0.01, max_depth=2, min_child_weight=4, n_estimators=1300, reg_alpha=0, subsample=0.5;, score=0.977 total time=   7.1s\n",
            "[CV 5/5] END colsample_bytree=1.0, gamma=1, learning_rate=0.01, max_depth=2, min_child_weight=4, n_estimators=1300, reg_alpha=0, subsample=0.5;, score=0.980 total time=   4.7s\n",
            "[CV 1/5] END colsample_bytree=0.5, gamma=2, learning_rate=0.01, max_depth=5, min_child_weight=3, n_estimators=1800, reg_alpha=0.01, subsample=0.2;, score=0.992 total time=  10.4s\n",
            "[CV 2/5] END colsample_bytree=0.5, gamma=2, learning_rate=0.01, max_depth=5, min_child_weight=3, n_estimators=1800, reg_alpha=0.01, subsample=0.2;, score=0.991 total time=  10.5s\n",
            "[CV 3/5] END colsample_bytree=0.5, gamma=2, learning_rate=0.01, max_depth=5, min_child_weight=3, n_estimators=1800, reg_alpha=0.01, subsample=0.2;, score=0.990 total time=  10.5s\n",
            "[CV 4/5] END colsample_bytree=0.5, gamma=2, learning_rate=0.01, max_depth=5, min_child_weight=3, n_estimators=1800, reg_alpha=0.01, subsample=0.2;, score=0.991 total time=   8.2s\n",
            "[CV 5/5] END colsample_bytree=0.5, gamma=2, learning_rate=0.01, max_depth=5, min_child_weight=3, n_estimators=1800, reg_alpha=0.01, subsample=0.2;, score=0.992 total time=  10.4s\n"
          ]
        }
      ]
    },
    {
      "cell_type": "code",
      "source": [
        "# model best estimators\n",
        "print(\"reg_alpha: \", model_xgboost.best_estimator_.get_params()[\"reg_alpha\"])\n",
        "print(\"max_depth: \", model_xgboost.best_estimator_.get_params()[\"max_depth\"])\n",
        "print(\"gamma: \", model_xgboost.best_estimator_.get_params()[\"gamma\"])\n",
        "print(\"learning_rate: \", model_xgboost.best_estimator_.get_params()[\"learning_rate\"])\n",
        "print(\"min_child_weight: \", model_xgboost.best_estimator_.get_params()[\"min_child_weight\"])\n",
        "print(\"subsample: \", model_xgboost.best_estimator_.get_params()[\"subsample\"])\n",
        "print(\"colsample_bytree: \", model_xgboost.best_estimator_.get_params()[\"colsample_bytree\"])\n",
        "print(\"n_estimators: \", model_xgboost.best_estimator_.get_params()[\"n_estimators\"])"
      ],
      "metadata": {
        "colab": {
          "base_uri": "https://localhost:8080/"
        },
        "id": "hHpWdgL4UEjT",
        "outputId": "f50108c3-b94a-41e1-d8d5-0d53ca01759a"
      },
      "execution_count": 46,
      "outputs": [
        {
          "output_type": "stream",
          "name": "stdout",
          "text": [
            "reg_alpha:  0\n",
            "max_depth:  10\n",
            "gamma:  2\n",
            "learning_rate:  0.01\n",
            "min_child_weight:  1\n",
            "subsample:  0.7\n",
            "colsample_bytree:  0.8\n",
            "n_estimators:  1700\n"
          ]
        }
      ]
    },
    {
      "cell_type": "code",
      "source": [
        "# fill in best estimators to create model\n",
        "regressor = XGBClassifier(reg_alpha = model_xgboost.best_estimator_.get_params()[\"reg_alpha\"],\n",
        "                          max_depth = model_xgboost.best_estimator_.get_params()[\"max_depth\"],\n",
        "                          gamma = model_xgboost.best_estimator_.get_params()[\"gamma\"],\n",
        "                          learning_rate = model_xgboost.best_estimator_.get_params()[\"learning_rate\"],\n",
        "                          min_child_weight = model_xgboost.best_estimator_.get_params()[\"min_child_weight\"],\n",
        "                          subsample = model_xgboost.best_estimator_.get_params()[\"subsample\"],\n",
        "                          colsample_bytree = model_xgboost.best_estimator_.get_params()[\"colsample_bytree\"], \n",
        "                          n_estimators = model_xgboost.best_estimator_.get_params()[\"n_estimators\"]\n",
        "                          )"
      ],
      "metadata": {
        "id": "rJJLGkfwUzuF"
      },
      "execution_count": 47,
      "outputs": []
    },
    {
      "cell_type": "code",
      "source": [
        "# prune the model\n",
        "max_depth = [1,3,5,7,9,11,13,15]\n",
        "train_scores, test_scores = validation_curve(regressor, X_train, y_train.values.ravel(), param_name = \"max_depth\",\n",
        "                                             param_range = max_depth, cv = 3, scoring = \"roc_auc\")"
      ],
      "metadata": {
        "id": "3ft5qWU8U53P"
      },
      "execution_count": 48,
      "outputs": []
    },
    {
      "cell_type": "code",
      "source": [
        "# fit the model\n",
        "regressor.fit(X_train, y_train.values.ravel())"
      ],
      "metadata": {
        "colab": {
          "base_uri": "https://localhost:8080/",
          "height": 248
        },
        "id": "T6eQ3szeU8Qc",
        "outputId": "e88fc40d-f968-4e41-92b8-2be03d3ebfd7"
      },
      "execution_count": 50,
      "outputs": [
        {
          "output_type": "execute_result",
          "data": {
            "text/plain": [
              "XGBClassifier(base_score=None, booster=None, callbacks=None,\n",
              "              colsample_bylevel=None, colsample_bynode=None,\n",
              "              colsample_bytree=0.8, early_stopping_rounds=None,\n",
              "              enable_categorical=False, eval_metric=None, feature_types=None,\n",
              "              gamma=2, gpu_id=None, grow_policy=None, importance_type=None,\n",
              "              interaction_constraints=None, learning_rate=0.01, max_bin=None,\n",
              "              max_cat_threshold=None, max_cat_to_onehot=None,\n",
              "              max_delta_step=None, max_depth=10, max_leaves=None,\n",
              "              min_child_weight=1, missing=nan, monotone_constraints=None,\n",
              "              n_estimators=1700, n_jobs=None, num_parallel_tree=None,\n",
              "              predictor=None, random_state=None, ...)"
            ],
            "text/html": [
              "<style>#sk-container-id-1 {color: black;background-color: white;}#sk-container-id-1 pre{padding: 0;}#sk-container-id-1 div.sk-toggleable {background-color: white;}#sk-container-id-1 label.sk-toggleable__label {cursor: pointer;display: block;width: 100%;margin-bottom: 0;padding: 0.3em;box-sizing: border-box;text-align: center;}#sk-container-id-1 label.sk-toggleable__label-arrow:before {content: \"▸\";float: left;margin-right: 0.25em;color: #696969;}#sk-container-id-1 label.sk-toggleable__label-arrow:hover:before {color: black;}#sk-container-id-1 div.sk-estimator:hover label.sk-toggleable__label-arrow:before {color: black;}#sk-container-id-1 div.sk-toggleable__content {max-height: 0;max-width: 0;overflow: hidden;text-align: left;background-color: #f0f8ff;}#sk-container-id-1 div.sk-toggleable__content pre {margin: 0.2em;color: black;border-radius: 0.25em;background-color: #f0f8ff;}#sk-container-id-1 input.sk-toggleable__control:checked~div.sk-toggleable__content {max-height: 200px;max-width: 100%;overflow: auto;}#sk-container-id-1 input.sk-toggleable__control:checked~label.sk-toggleable__label-arrow:before {content: \"▾\";}#sk-container-id-1 div.sk-estimator input.sk-toggleable__control:checked~label.sk-toggleable__label {background-color: #d4ebff;}#sk-container-id-1 div.sk-label input.sk-toggleable__control:checked~label.sk-toggleable__label {background-color: #d4ebff;}#sk-container-id-1 input.sk-hidden--visually {border: 0;clip: rect(1px 1px 1px 1px);clip: rect(1px, 1px, 1px, 1px);height: 1px;margin: -1px;overflow: hidden;padding: 0;position: absolute;width: 1px;}#sk-container-id-1 div.sk-estimator {font-family: monospace;background-color: #f0f8ff;border: 1px dotted black;border-radius: 0.25em;box-sizing: border-box;margin-bottom: 0.5em;}#sk-container-id-1 div.sk-estimator:hover {background-color: #d4ebff;}#sk-container-id-1 div.sk-parallel-item::after {content: \"\";width: 100%;border-bottom: 1px solid gray;flex-grow: 1;}#sk-container-id-1 div.sk-label:hover label.sk-toggleable__label {background-color: #d4ebff;}#sk-container-id-1 div.sk-serial::before {content: \"\";position: absolute;border-left: 1px solid gray;box-sizing: border-box;top: 0;bottom: 0;left: 50%;z-index: 0;}#sk-container-id-1 div.sk-serial {display: flex;flex-direction: column;align-items: center;background-color: white;padding-right: 0.2em;padding-left: 0.2em;position: relative;}#sk-container-id-1 div.sk-item {position: relative;z-index: 1;}#sk-container-id-1 div.sk-parallel {display: flex;align-items: stretch;justify-content: center;background-color: white;position: relative;}#sk-container-id-1 div.sk-item::before, #sk-container-id-1 div.sk-parallel-item::before {content: \"\";position: absolute;border-left: 1px solid gray;box-sizing: border-box;top: 0;bottom: 0;left: 50%;z-index: -1;}#sk-container-id-1 div.sk-parallel-item {display: flex;flex-direction: column;z-index: 1;position: relative;background-color: white;}#sk-container-id-1 div.sk-parallel-item:first-child::after {align-self: flex-end;width: 50%;}#sk-container-id-1 div.sk-parallel-item:last-child::after {align-self: flex-start;width: 50%;}#sk-container-id-1 div.sk-parallel-item:only-child::after {width: 0;}#sk-container-id-1 div.sk-dashed-wrapped {border: 1px dashed gray;margin: 0 0.4em 0.5em 0.4em;box-sizing: border-box;padding-bottom: 0.4em;background-color: white;}#sk-container-id-1 div.sk-label label {font-family: monospace;font-weight: bold;display: inline-block;line-height: 1.2em;}#sk-container-id-1 div.sk-label-container {text-align: center;}#sk-container-id-1 div.sk-container {/* jupyter's `normalize.less` sets `[hidden] { display: none; }` but bootstrap.min.css set `[hidden] { display: none !important; }` so we also need the `!important` here to be able to override the default hidden behavior on the sphinx rendered scikit-learn.org. See: https://github.com/scikit-learn/scikit-learn/issues/21755 */display: inline-block !important;position: relative;}#sk-container-id-1 div.sk-text-repr-fallback {display: none;}</style><div id=\"sk-container-id-1\" class=\"sk-top-container\"><div class=\"sk-text-repr-fallback\"><pre>XGBClassifier(base_score=None, booster=None, callbacks=None,\n",
              "              colsample_bylevel=None, colsample_bynode=None,\n",
              "              colsample_bytree=0.8, early_stopping_rounds=None,\n",
              "              enable_categorical=False, eval_metric=None, feature_types=None,\n",
              "              gamma=2, gpu_id=None, grow_policy=None, importance_type=None,\n",
              "              interaction_constraints=None, learning_rate=0.01, max_bin=None,\n",
              "              max_cat_threshold=None, max_cat_to_onehot=None,\n",
              "              max_delta_step=None, max_depth=10, max_leaves=None,\n",
              "              min_child_weight=1, missing=nan, monotone_constraints=None,\n",
              "              n_estimators=1700, n_jobs=None, num_parallel_tree=None,\n",
              "              predictor=None, random_state=None, ...)</pre><b>In a Jupyter environment, please rerun this cell to show the HTML representation or trust the notebook. <br />On GitHub, the HTML representation is unable to render, please try loading this page with nbviewer.org.</b></div><div class=\"sk-container\" hidden><div class=\"sk-item\"><div class=\"sk-estimator sk-toggleable\"><input class=\"sk-toggleable__control sk-hidden--visually\" id=\"sk-estimator-id-1\" type=\"checkbox\" checked><label for=\"sk-estimator-id-1\" class=\"sk-toggleable__label sk-toggleable__label-arrow\">XGBClassifier</label><div class=\"sk-toggleable__content\"><pre>XGBClassifier(base_score=None, booster=None, callbacks=None,\n",
              "              colsample_bylevel=None, colsample_bynode=None,\n",
              "              colsample_bytree=0.8, early_stopping_rounds=None,\n",
              "              enable_categorical=False, eval_metric=None, feature_types=None,\n",
              "              gamma=2, gpu_id=None, grow_policy=None, importance_type=None,\n",
              "              interaction_constraints=None, learning_rate=0.01, max_bin=None,\n",
              "              max_cat_threshold=None, max_cat_to_onehot=None,\n",
              "              max_delta_step=None, max_depth=10, max_leaves=None,\n",
              "              min_child_weight=1, missing=nan, monotone_constraints=None,\n",
              "              n_estimators=1700, n_jobs=None, num_parallel_tree=None,\n",
              "              predictor=None, random_state=None, ...)</pre></div></div></div></div></div>"
            ]
          },
          "metadata": {},
          "execution_count": 50
        }
      ]
    },
    {
      "cell_type": "markdown",
      "source": [
        "### Outputs"
      ],
      "metadata": {
        "id": "xk0iErWEXaK9"
      }
    },
    {
      "cell_type": "code",
      "source": [
        "prediction = regressor.predict(X_test)"
      ],
      "metadata": {
        "id": "fKmFe7dTXj2_"
      },
      "execution_count": 51,
      "outputs": []
    },
    {
      "cell_type": "code",
      "source": [
        "confusion_matrix = metrics.confusion_matrix(y_test[\"is_fraud\"], prediction)\n",
        "\n",
        "cm_display = metrics.ConfusionMatrixDisplay(confusion_matrix = confusion_matrix, display_labels = [0, 1])\n",
        "\n",
        "cm_display.plot()\n",
        "plt.show()"
      ],
      "metadata": {
        "colab": {
          "base_uri": "https://localhost:8080/",
          "height": 279
        },
        "id": "iCBTdCqoYIkr",
        "outputId": "592d5faf-234a-4e30-bb49-e72b37cb3142"
      },
      "execution_count": 52,
      "outputs": [
        {
          "output_type": "display_data",
          "data": {
            "text/plain": [
              "<Figure size 432x288 with 2 Axes>"
            ],
            "image/png": "[encoded data removed]"
          },
          "metadata": {
            "needs_background": "light"
          }
        }
      ]
    },
    {
      "cell_type": "code",
      "source": [
        "# Evaluate model\n",
        "## Calculate the precision\n",
        "precision = precision_score(y_test[\"is_fraud\"], prediction)\n",
        "print(\"Precision: \", precision)\n",
        "\n",
        "## Calculate the recall\n",
        "recall = recall_score(y_test[\"is_fraud\"], prediction)\n",
        "print(\"Recall: \", recall)\n",
        "\n",
        "## Calculate the accuracy\n",
        "accuracy = accuracy_score(y_test[\"is_fraud\"], prediction)\n",
        "print(\"Accuracy: \", accuracy)\n",
        "\n",
        "## Calculate the F1-score\n",
        "f1 = f1_score(y_test[\"is_fraud\"], prediction)\n",
        "print(\"F1-score: \", f1)"
      ],
      "metadata": {
        "colab": {
          "base_uri": "https://localhost:8080/"
        },
        "id": "6pB7CdjSZJF1",
        "outputId": "2f255f99-de71-473d-8534-e590017f422f"
      },
      "execution_count": 55,
      "outputs": [
        {
          "output_type": "stream",
          "name": "stdout",
          "text": [
            "Precision:  0.11187214611872145\n",
            "Recall:  0.98\n",
            "Accuracy:  0.9578924638307061\n",
            "F1-score:  0.20081967213114751\n"
          ]
        }
      ]
    },
    {
      "cell_type": "markdown",
      "source": [
        "### Save model"
      ],
      "metadata": {
        "id": "YUUYRUgHZ0V3"
      }
    },
    {
      "cell_type": "code",
      "source": [
        "# save to JSON\n",
        "regressor.save_model(\"model1.json\")\n",
        "# save to text format\n",
        "regressor.save_model(\"model1.txt\")"
      ],
      "metadata": {
        "id": "JgA1-SguZ2Hn"
      },
      "execution_count": 56,
      "outputs": []
    }
  ]
}