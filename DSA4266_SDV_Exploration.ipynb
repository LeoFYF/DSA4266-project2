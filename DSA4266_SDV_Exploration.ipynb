{
  "nbformat": 4,
  "nbformat_minor": 0,
  "metadata": {
    "colab": {
      "provenance": []
    },
    "kernelspec": {
      "name": "python3",
      "display_name": "Python 3"
    },
    "language_info": {
      "name": "python"
    },
    "accelerator": "GPU",
    "gpuClass": "standard"
  },
  "cells": [
    {
      "cell_type": "code",
      "source": [
        "# sdv installation\n",
        "%pip install sdv==1.0.0b1"
      ],
      "metadata": {
        "colab": {
          "base_uri": "https://localhost:8080/",
          "height": 982
        },
        "id": "BgL-uoVsVkmB",
        "outputId": "d4f74e16-b0ec-462e-bae4-ccb70f1107bc"
      },
      "execution_count": 27,
      "outputs": [
        {
          "output_type": "stream",
          "name": "stdout",
          "text": [
            "Looking in indexes: https://pypi.org/simple, https://us-python.pkg.dev/colab-wheels/public/simple/\n",
            "Collecting sdv==1.0.0b1\n",
            "  Downloading sdv-1.0.0b1-py2.py3-none-any.whl (110 kB)\n",
            "\u001b[2K     \u001b[90m━━━━━━━━━━━━━━━━━━━━━━━━━━━━━━━━━━━━━━━\u001b[0m \u001b[32m110.5/110.5 KB\u001b[0m \u001b[31m9.5 MB/s\u001b[0m eta \u001b[36m0:00:00\u001b[0m\n",
            "\u001b[?25hRequirement already satisfied: rdt<2,>=1.3.0 in /usr/local/lib/python3.9/dist-packages (from sdv==1.0.0b1) (1.3.0)\n",
            "Requirement already satisfied: sdmetrics<0.10,>=0.9.1 in /usr/local/lib/python3.9/dist-packages (from sdv==1.0.0b1) (0.9.2)\n",
            "Requirement already satisfied: numpy<2,>=1.20.0 in /usr/local/lib/python3.9/dist-packages (from sdv==1.0.0b1) (1.22.4)\n",
            "Requirement already satisfied: Faker<15,>=10 in /usr/local/lib/python3.9/dist-packages (from sdv==1.0.0b1) (14.2.1)\n",
            "Requirement already satisfied: deepecho<0.5,>=0.4.0 in /usr/local/lib/python3.9/dist-packages (from sdv==1.0.0b1) (0.4.0)\n",
            "Requirement already satisfied: copulas<0.9,>=0.8.0 in /usr/local/lib/python3.9/dist-packages (from sdv==1.0.0b1) (0.8.0)\n",
            "Requirement already satisfied: tqdm<5,>=4.15 in /usr/local/lib/python3.9/dist-packages (from sdv==1.0.0b1) (4.65.0)\n",
            "Requirement already satisfied: cloudpickle<3.0,>=2.1.0 in /usr/local/lib/python3.9/dist-packages (from sdv==1.0.0b1) (2.2.1)\n",
            "Requirement already satisfied: botocore<2,>=1.18 in /usr/local/lib/python3.9/dist-packages (from sdv==1.0.0b1) (1.29.96)\n",
            "Requirement already satisfied: pandas<2,>=1.1.3 in /usr/local/lib/python3.9/dist-packages (from sdv==1.0.0b1) (1.4.4)\n",
            "Requirement already satisfied: boto3<2,>=1.15.0 in /usr/local/lib/python3.9/dist-packages (from sdv==1.0.0b1) (1.26.96)\n",
            "Requirement already satisfied: graphviz<1,>=0.13.2 in /usr/local/lib/python3.9/dist-packages (from sdv==1.0.0b1) (0.20.1)\n",
            "Requirement already satisfied: ctgan<0.8,>=0.7.1 in /usr/local/lib/python3.9/dist-packages (from sdv==1.0.0b1) (0.7.1)\n",
            "Requirement already satisfied: s3transfer<0.7.0,>=0.6.0 in /usr/local/lib/python3.9/dist-packages (from boto3<2,>=1.15.0->sdv==1.0.0b1) (0.6.0)\n",
            "Requirement already satisfied: jmespath<2.0.0,>=0.7.1 in /usr/local/lib/python3.9/dist-packages (from boto3<2,>=1.15.0->sdv==1.0.0b1) (1.0.1)\n",
            "Requirement already satisfied: python-dateutil<3.0.0,>=2.1 in /usr/local/lib/python3.9/dist-packages (from botocore<2,>=1.18->sdv==1.0.0b1) (2.8.2)\n",
            "Requirement already satisfied: urllib3<1.27,>=1.25.4 in /usr/local/lib/python3.9/dist-packages (from botocore<2,>=1.18->sdv==1.0.0b1) (1.26.15)\n",
            "Requirement already satisfied: scipy<2,>=1.5.4 in /usr/local/lib/python3.9/dist-packages (from copulas<0.9,>=0.8.0->sdv==1.0.0b1) (1.10.1)\n",
            "Requirement already satisfied: matplotlib<4,>=3.4.0 in /usr/local/lib/python3.9/dist-packages (from copulas<0.9,>=0.8.0->sdv==1.0.0b1) (3.7.1)\n",
            "Requirement already satisfied: torch<2,>=1.8.0 in /usr/local/lib/python3.9/dist-packages (from ctgan<0.8,>=0.7.1->sdv==1.0.0b1) (1.13.1+cu116)\n",
            "Requirement already satisfied: packaging<22,>=20 in /usr/local/lib/python3.9/dist-packages (from ctgan<0.8,>=0.7.1->sdv==1.0.0b1) (21.3)\n",
            "Requirement already satisfied: pytz>=2020.1 in /usr/local/lib/python3.9/dist-packages (from pandas<2,>=1.1.3->sdv==1.0.0b1) (2022.7.1)\n",
            "Requirement already satisfied: psutil<6,>=5.7 in /usr/local/lib/python3.9/dist-packages (from rdt<2,>=1.3.0->sdv==1.0.0b1) (5.9.4)\n",
            "Requirement already satisfied: scikit-learn<2,>=0.24 in /usr/local/lib/python3.9/dist-packages (from rdt<2,>=1.3.0->sdv==1.0.0b1) (1.2.2)\n",
            "Requirement already satisfied: plotly<6,>=5.10.0 in /usr/local/lib/python3.9/dist-packages (from sdmetrics<0.10,>=0.9.1->sdv==1.0.0b1) (5.13.1)\n",
            "Requirement already satisfied: importlib-resources>=3.2.0 in /usr/local/lib/python3.9/dist-packages (from matplotlib<4,>=3.4.0->copulas<0.9,>=0.8.0->sdv==1.0.0b1) (5.12.0)\n",
            "Requirement already satisfied: kiwisolver>=1.0.1 in /usr/local/lib/python3.9/dist-packages (from matplotlib<4,>=3.4.0->copulas<0.9,>=0.8.0->sdv==1.0.0b1) (1.4.4)\n",
            "Requirement already satisfied: contourpy>=1.0.1 in /usr/local/lib/python3.9/dist-packages (from matplotlib<4,>=3.4.0->copulas<0.9,>=0.8.0->sdv==1.0.0b1) (1.0.7)\n",
            "Requirement already satisfied: pillow>=6.2.0 in /usr/local/lib/python3.9/dist-packages (from matplotlib<4,>=3.4.0->copulas<0.9,>=0.8.0->sdv==1.0.0b1) (8.4.0)\n",
            "Requirement already satisfied: cycler>=0.10 in /usr/local/lib/python3.9/dist-packages (from matplotlib<4,>=3.4.0->copulas<0.9,>=0.8.0->sdv==1.0.0b1) (0.11.0)\n",
            "Requirement already satisfied: pyparsing>=2.3.1 in /usr/local/lib/python3.9/dist-packages (from matplotlib<4,>=3.4.0->copulas<0.9,>=0.8.0->sdv==1.0.0b1) (3.0.9)\n",
            "Requirement already satisfied: fonttools>=4.22.0 in /usr/local/lib/python3.9/dist-packages (from matplotlib<4,>=3.4.0->copulas<0.9,>=0.8.0->sdv==1.0.0b1) (4.39.2)\n",
            "Requirement already satisfied: tenacity>=6.2.0 in /usr/local/lib/python3.9/dist-packages (from plotly<6,>=5.10.0->sdmetrics<0.10,>=0.9.1->sdv==1.0.0b1) (8.2.2)\n",
            "Requirement already satisfied: six>=1.5 in /usr/local/lib/python3.9/dist-packages (from python-dateutil<3.0.0,>=2.1->botocore<2,>=1.18->sdv==1.0.0b1) (1.16.0)\n",
            "Requirement already satisfied: threadpoolctl>=2.0.0 in /usr/local/lib/python3.9/dist-packages (from scikit-learn<2,>=0.24->rdt<2,>=1.3.0->sdv==1.0.0b1) (3.1.0)\n",
            "Requirement already satisfied: joblib>=1.1.1 in /usr/local/lib/python3.9/dist-packages (from scikit-learn<2,>=0.24->rdt<2,>=1.3.0->sdv==1.0.0b1) (1.1.1)\n",
            "Requirement already satisfied: typing-extensions in /usr/local/lib/python3.9/dist-packages (from torch<2,>=1.8.0->ctgan<0.8,>=0.7.1->sdv==1.0.0b1) (4.5.0)\n",
            "Requirement already satisfied: zipp>=3.1.0 in /usr/local/lib/python3.9/dist-packages (from importlib-resources>=3.2.0->matplotlib<4,>=3.4.0->copulas<0.9,>=0.8.0->sdv==1.0.0b1) (3.15.0)\n",
            "Installing collected packages: sdv\n",
            "  Attempting uninstall: sdv\n",
            "    Found existing installation: sdv 1.0.0b0\n",
            "    Uninstalling sdv-1.0.0b0:\n",
            "      Successfully uninstalled sdv-1.0.0b0\n",
            "Successfully installed sdv-1.0.0b1\n"
          ]
        },
        {
          "output_type": "display_data",
          "data": {
            "application/vnd.colab-display-data+json": {
              "pip_warning": {
                "packages": [
                  "sdv"
                ]
              }
            }
          },
          "metadata": {}
        }
      ]
    },
    {
      "cell_type": "code",
      "execution_count": 1,
      "metadata": {
        "id": "7LheKVquwiFU"
      },
      "outputs": [],
      "source": [
        "# general imports\n",
        "import pandas as pd\n",
        "\n",
        "# SDV imports\n",
        "from sdv.metadata import SingleTableMetadata\n",
        "from sdv.lite import SingleTablePreset\n"
      ]
    },
    {
      "cell_type": "code",
      "source": [
        "# mount to google drive to read in data\n",
        "from google.colab import drive\n",
        "drive.mount('/content/drive')"
      ],
      "metadata": {
        "colab": {
          "base_uri": "https://localhost:8080/"
        },
        "id": "jHOsTDSBUCYJ",
        "outputId": "28f49266-93a1-44cb-f883-6f0916318781"
      },
      "execution_count": 2,
      "outputs": [
        {
          "output_type": "stream",
          "name": "stdout",
          "text": [
            "Drive already mounted at /content/drive; to attempt to forcibly remount, call drive.mount(\"/content/drive\", force_remount=True).\n"
          ]
        }
      ]
    },
    {
      "cell_type": "code",
      "source": [
        "# read in the train data\n",
        "train_data = pd.read_csv('/content/drive//MyDrive/University/Year 4/DSA4266/DSA4266 Project 2/Data/fraudTrain.csv')\n",
        "\n",
        "# read in test data\n",
        "test_data = pd.read_csv('/content/drive//MyDrive/University/Year 4/DSA4266/DSA4266 Project 2/Data/fraudTest.csv')"
      ],
      "metadata": {
        "id": "bYajlNLUwpO5"
      },
      "execution_count": 3,
      "outputs": []
    },
    {
      "cell_type": "code",
      "source": [
        "# remove unique identifier column\n",
        "train_data = train_data.iloc[: , 1:]\n",
        "test_data = test_data.iloc[: , 1:]"
      ],
      "metadata": {
        "id": "DMuOGCT_XttN"
      },
      "execution_count": 4,
      "outputs": []
    },
    {
      "cell_type": "code",
      "source": [
        "# change is_fraud col to boolean\n",
        "fraud_map = {1: True, 0: False}\n",
        "train_data['is_fraud'] = train_data['is_fraud'].map(fraud_map)"
      ],
      "metadata": {
        "id": "d8y3IYTRQDI8"
      },
      "execution_count": 5,
      "outputs": []
    },
    {
      "cell_type": "code",
      "source": [
        "# generate metadata for the train data\n",
        "metadata = SingleTableMetadata()\n",
        "metadata.detect_from_dataframe(data=train_data)"
      ],
      "metadata": {
        "id": "jV4kGZnuVQw1"
      },
      "execution_count": 19,
      "outputs": []
    },
    {
      "cell_type": "code",
      "source": [
        "# update wrong generated column metadata\n",
        "metadata.update_column(column_name='trans_date_trans_time', sdtype='datetime', datetime_format='%Y-%m-%d %H:%M:%S')\n",
        "metadata.update_column(column_name='cc_num', sdtype='credit_card_number', pii=True)\n",
        "metadata.update_column(column_name='first', sdtype='first_name', pii=True)\n",
        "metadata.update_column(column_name='last', sdtype='last_name', pii=True)\n",
        "metadata.update_column(column_name='street', sdtype='street_address', pii=True)\n",
        "metadata.update_column(column_name='city', sdtype='city', pii=True)\n",
        "metadata.update_column(column_name='job', sdtype='job', pii=True)\n",
        "metadata.update_column(column_name='dob', sdtype='datetime', datetime_format='%Y-%m-%d')\n",
        "metadata.update_column(column_name='trans_num', sdtype='text')\n",
        "metadata.update_column(column_name='is_fraud', sdtype='boolean')"
      ],
      "metadata": {
        "id": "En9slOsgZpBL"
      },
      "execution_count": 21,
      "outputs": []
    },
    {
      "cell_type": "code",
      "source": [
        "# set primary key\n",
        "metadata.set_primary_key(column_name='trans_num')"
      ],
      "metadata": {
        "id": "MXxNW3RJMuc4"
      },
      "execution_count": 22,
      "outputs": []
    },
    {
      "cell_type": "code",
      "source": [
        "# validate the metadata\n",
        "metadata.validate()"
      ],
      "metadata": {
        "id": "5Not5ELTXiwg"
      },
      "execution_count": 23,
      "outputs": []
    },
    {
      "cell_type": "code",
      "source": [
        "metadata"
      ],
      "metadata": {
        "colab": {
          "base_uri": "https://localhost:8080/"
        },
        "id": "OnGuraMaUYQv",
        "outputId": "889f6946-54b2-4012-80ca-39cca0dfab82"
      },
      "execution_count": 24,
      "outputs": [
        {
          "output_type": "execute_result",
          "data": {
            "text/plain": [
              "{\n",
              "    \"primary_key\": \"trans_num\",\n",
              "    \"METADATA_SPEC_VERSION\": \"SINGLE_TABLE_V1\",\n",
              "    \"columns\": {\n",
              "        \"trans_date_trans_time\": {\n",
              "            \"sdtype\": \"datetime\",\n",
              "            \"datetime_format\": \"%Y-%m-%d %H:%M:%S\"\n",
              "        },\n",
              "        \"cc_num\": {\n",
              "            \"sdtype\": \"credit_card_number\",\n",
              "            \"pii\": true\n",
              "        },\n",
              "        \"merchant\": {\n",
              "            \"sdtype\": \"categorical\"\n",
              "        },\n",
              "        \"category\": {\n",
              "            \"sdtype\": \"categorical\"\n",
              "        },\n",
              "        \"amt\": {\n",
              "            \"sdtype\": \"numerical\"\n",
              "        },\n",
              "        \"first\": {\n",
              "            \"sdtype\": \"first_name\",\n",
              "            \"pii\": true\n",
              "        },\n",
              "        \"last\": {\n",
              "            \"sdtype\": \"last_name\",\n",
              "            \"pii\": true\n",
              "        },\n",
              "        \"gender\": {\n",
              "            \"sdtype\": \"categorical\"\n",
              "        },\n",
              "        \"street\": {\n",
              "            \"sdtype\": \"street_address\",\n",
              "            \"pii\": true\n",
              "        },\n",
              "        \"city\": {\n",
              "            \"sdtype\": \"city\",\n",
              "            \"pii\": true\n",
              "        },\n",
              "        \"state\": {\n",
              "            \"sdtype\": \"categorical\"\n",
              "        },\n",
              "        \"zip\": {\n",
              "            \"sdtype\": \"numerical\"\n",
              "        },\n",
              "        \"lat\": {\n",
              "            \"sdtype\": \"numerical\"\n",
              "        },\n",
              "        \"long\": {\n",
              "            \"sdtype\": \"numerical\"\n",
              "        },\n",
              "        \"city_pop\": {\n",
              "            \"sdtype\": \"numerical\"\n",
              "        },\n",
              "        \"job\": {\n",
              "            \"sdtype\": \"job\",\n",
              "            \"pii\": true\n",
              "        },\n",
              "        \"dob\": {\n",
              "            \"sdtype\": \"datetime\",\n",
              "            \"datetime_format\": \"%Y-%m-%d\"\n",
              "        },\n",
              "        \"trans_num\": {\n",
              "            \"sdtype\": \"text\"\n",
              "        },\n",
              "        \"unix_time\": {\n",
              "            \"sdtype\": \"numerical\"\n",
              "        },\n",
              "        \"merch_lat\": {\n",
              "            \"sdtype\": \"numerical\"\n",
              "        },\n",
              "        \"merch_long\": {\n",
              "            \"sdtype\": \"numerical\"\n",
              "        },\n",
              "        \"is_fraud\": {\n",
              "            \"sdtype\": \"boolean\"\n",
              "        }\n",
              "    }\n",
              "}"
            ]
          },
          "metadata": {},
          "execution_count": 24
        }
      ]
    },
    {
      "cell_type": "code",
      "source": [
        "# create synthesizer and fit it to data\n",
        "synthesizer = SingleTablePreset(\n",
        "    metadata,\n",
        "    name='FAST_ML'\n",
        ")\n",
        "\n",
        "synthesizer.fit(\n",
        "    data=train_data\n",
        ")"
      ],
      "metadata": {
        "id": "pw8S05zSu37x"
      },
      "execution_count": 25,
      "outputs": []
    },
    {
      "cell_type": "code",
      "source": [
        "synthetic_data = synthesizer.sample(\n",
        "    num_rows=500\n",
        ")\n",
        "\n",
        "synthetic_data.head()"
      ],
      "metadata": {
        "id": "f1CRf87evNDH",
        "colab": {
          "base_uri": "https://localhost:8080/",
          "height": 543
        },
        "outputId": "4fe2d0c8-6b56-4958-ba26-cc0de537260f"
      },
      "execution_count": 26,
      "outputs": [
        {
          "output_type": "execute_result",
          "data": {
            "text/plain": [
              "  trans_date_trans_time               cc_num  \\\n",
              "0   2019-06-29 16:51:40      180090934066211   \n",
              "1   2019-07-26 07:04:12       30083012986584   \n",
              "2   2019-05-19 12:54:37     2290394691481974   \n",
              "3   2019-09-14 07:24:12  4444812351068428276   \n",
              "4   2020-01-02 22:34:13     4875851017747494   \n",
              "\n",
              "                              merchant       category         amt    first  \\\n",
              "0                 fraud_Morissette LLC   shopping_pos   68.830152    Amber   \n",
              "1               fraud_Nolan-Williamson   shopping_pos   27.808836    Keith   \n",
              "2  fraud_Robel, Cummerata and Prosacco   shopping_pos  323.546470  Anthony   \n",
              "3                        fraud_Kub PLC    food_dining  117.126842  Desiree   \n",
              "4                    fraud_Kilback LLC  gas_transport    1.000000    Jason   \n",
              "\n",
              "      last gender                      street           city  ...        lat  \\\n",
              "0     Ryan      F  093 Williams Lane Apt. 170  Cherylborough  ...  42.818440   \n",
              "1  Roberts      F         12986 Nichols Cliff    Brandonfurt  ...  38.238537   \n",
              "2  Johnson      M  39469 Emily Route Apt. 974   North Steven  ...  39.163729   \n",
              "3   Valdez      F            4481 John Island  North Charles  ...  33.407842   \n",
              "4    Clark      M           68428 Thomas Isle      Port Lisa  ...  45.479035   \n",
              "\n",
              "         long  city_pop                       job         dob trans_num  \\\n",
              "0 -105.092327    357435       Solicitor, Scotland  1980-04-09     AAAAA   \n",
              "1  -88.306243    139191  Horticultural consultant  1980-03-17     AAAAB   \n",
              "2  -76.080441    103275              Tree surgeon  1997-08-26     AAAAC   \n",
              "3  -89.676512    233095    Air traffic controller  1971-09-07     AAAAD   \n",
              "4  -85.232964        23        Wellsite geologist  1956-10-29     AAAAE   \n",
              "\n",
              "    unix_time  merch_lat  merch_long  is_fraud  \n",
              "0  1340948598  43.343106 -104.974026     False  \n",
              "1  1343309088  37.871285  -88.213639     False  \n",
              "2  1337410226  39.018708  -77.011731     False  \n",
              "3  1347528136  33.702352  -90.432062     False  \n",
              "4  1357077945  44.867904  -85.425634     False  \n",
              "\n",
              "[5 rows x 22 columns]"
            ],
            "text/html": [
              "\n",
              "  <div id=\"df-7be0a379-f872-45e1-9905-e4d9834bbc3e\">\n",
              "    <div class=\"colab-df-container\">\n",
              "      <div>\n",
              "<style scoped>\n",
              "    .dataframe tbody tr th:only-of-type {\n",
              "        vertical-align: middle;\n",
              "    }\n",
              "\n",
              "    .dataframe tbody tr th {\n",
              "        vertical-align: top;\n",
              "    }\n",
              "\n",
              "    .dataframe thead th {\n",
              "        text-align: right;\n",
              "    }\n",
              "</style>\n",
              "<table border=\"1\" class=\"dataframe\">\n",
              "  <thead>\n",
              "    <tr style=\"text-align: right;\">\n",
              "      <th></th>\n",
              "      <th>trans_date_trans_time</th>\n",
              "      <th>cc_num</th>\n",
              "      <th>merchant</th>\n",
              "      <th>category</th>\n",
              "      <th>amt</th>\n",
              "      <th>first</th>\n",
              "      <th>last</th>\n",
              "      <th>gender</th>\n",
              "      <th>street</th>\n",
              "      <th>city</th>\n",
              "      <th>...</th>\n",
              "      <th>lat</th>\n",
              "      <th>long</th>\n",
              "      <th>city_pop</th>\n",
              "      <th>job</th>\n",
              "      <th>dob</th>\n",
              "      <th>trans_num</th>\n",
              "      <th>unix_time</th>\n",
              "      <th>merch_lat</th>\n",
              "      <th>merch_long</th>\n",
              "      <th>is_fraud</th>\n",
              "    </tr>\n",
              "  </thead>\n",
              "  <tbody>\n",
              "    <tr>\n",
              "      <th>0</th>\n",
              "      <td>2019-06-29 16:51:40</td>\n",
              "      <td>180090934066211</td>\n",
              "      <td>fraud_Morissette LLC</td>\n",
              "      <td>shopping_pos</td>\n",
              "      <td>68.830152</td>\n",
              "      <td>Amber</td>\n",
              "      <td>Ryan</td>\n",
              "      <td>F</td>\n",
              "      <td>093 Williams Lane Apt. 170</td>\n",
              "      <td>Cherylborough</td>\n",
              "      <td>...</td>\n",
              "      <td>42.818440</td>\n",
              "      <td>-105.092327</td>\n",
              "      <td>357435</td>\n",
              "      <td>Solicitor, Scotland</td>\n",
              "      <td>1980-04-09</td>\n",
              "      <td>AAAAA</td>\n",
              "      <td>1340948598</td>\n",
              "      <td>43.343106</td>\n",
              "      <td>-104.974026</td>\n",
              "      <td>False</td>\n",
              "    </tr>\n",
              "    <tr>\n",
              "      <th>1</th>\n",
              "      <td>2019-07-26 07:04:12</td>\n",
              "      <td>30083012986584</td>\n",
              "      <td>fraud_Nolan-Williamson</td>\n",
              "      <td>shopping_pos</td>\n",
              "      <td>27.808836</td>\n",
              "      <td>Keith</td>\n",
              "      <td>Roberts</td>\n",
              "      <td>F</td>\n",
              "      <td>12986 Nichols Cliff</td>\n",
              "      <td>Brandonfurt</td>\n",
              "      <td>...</td>\n",
              "      <td>38.238537</td>\n",
              "      <td>-88.306243</td>\n",
              "      <td>139191</td>\n",
              "      <td>Horticultural consultant</td>\n",
              "      <td>1980-03-17</td>\n",
              "      <td>AAAAB</td>\n",
              "      <td>1343309088</td>\n",
              "      <td>37.871285</td>\n",
              "      <td>-88.213639</td>\n",
              "      <td>False</td>\n",
              "    </tr>\n",
              "    <tr>\n",
              "      <th>2</th>\n",
              "      <td>2019-05-19 12:54:37</td>\n",
              "      <td>2290394691481974</td>\n",
              "      <td>fraud_Robel, Cummerata and Prosacco</td>\n",
              "      <td>shopping_pos</td>\n",
              "      <td>323.546470</td>\n",
              "      <td>Anthony</td>\n",
              "      <td>Johnson</td>\n",
              "      <td>M</td>\n",
              "      <td>39469 Emily Route Apt. 974</td>\n",
              "      <td>North Steven</td>\n",
              "      <td>...</td>\n",
              "      <td>39.163729</td>\n",
              "      <td>-76.080441</td>\n",
              "      <td>103275</td>\n",
              "      <td>Tree surgeon</td>\n",
              "      <td>1997-08-26</td>\n",
              "      <td>AAAAC</td>\n",
              "      <td>1337410226</td>\n",
              "      <td>39.018708</td>\n",
              "      <td>-77.011731</td>\n",
              "      <td>False</td>\n",
              "    </tr>\n",
              "    <tr>\n",
              "      <th>3</th>\n",
              "      <td>2019-09-14 07:24:12</td>\n",
              "      <td>4444812351068428276</td>\n",
              "      <td>fraud_Kub PLC</td>\n",
              "      <td>food_dining</td>\n",
              "      <td>117.126842</td>\n",
              "      <td>Desiree</td>\n",
              "      <td>Valdez</td>\n",
              "      <td>F</td>\n",
              "      <td>4481 John Island</td>\n",
              "      <td>North Charles</td>\n",
              "      <td>...</td>\n",
              "      <td>33.407842</td>\n",
              "      <td>-89.676512</td>\n",
              "      <td>233095</td>\n",
              "      <td>Air traffic controller</td>\n",
              "      <td>1971-09-07</td>\n",
              "      <td>AAAAD</td>\n",
              "      <td>1347528136</td>\n",
              "      <td>33.702352</td>\n",
              "      <td>-90.432062</td>\n",
              "      <td>False</td>\n",
              "    </tr>\n",
              "    <tr>\n",
              "      <th>4</th>\n",
              "      <td>2020-01-02 22:34:13</td>\n",
              "      <td>4875851017747494</td>\n",
              "      <td>fraud_Kilback LLC</td>\n",
              "      <td>gas_transport</td>\n",
              "      <td>1.000000</td>\n",
              "      <td>Jason</td>\n",
              "      <td>Clark</td>\n",
              "      <td>M</td>\n",
              "      <td>68428 Thomas Isle</td>\n",
              "      <td>Port Lisa</td>\n",
              "      <td>...</td>\n",
              "      <td>45.479035</td>\n",
              "      <td>-85.232964</td>\n",
              "      <td>23</td>\n",
              "      <td>Wellsite geologist</td>\n",
              "      <td>1956-10-29</td>\n",
              "      <td>AAAAE</td>\n",
              "      <td>1357077945</td>\n",
              "      <td>44.867904</td>\n",
              "      <td>-85.425634</td>\n",
              "      <td>False</td>\n",
              "    </tr>\n",
              "  </tbody>\n",
              "</table>\n",
              "<p>5 rows × 22 columns</p>\n",
              "</div>\n",
              "      <button class=\"colab-df-convert\" onclick=\"convertToInteractive('df-7be0a379-f872-45e1-9905-e4d9834bbc3e')\"\n",
              "              title=\"Convert this dataframe to an interactive table.\"\n",
              "              style=\"display:none;\">\n",
              "        \n",
              "  <svg xmlns=\"http://www.w3.org/2000/svg\" height=\"24px\"viewBox=\"0 0 24 24\"\n",
              "       width=\"24px\">\n",
              "    <path d=\"M0 0h24v24H0V0z\" fill=\"none\"/>\n",
              "    <path d=\"M18.56 5.44l.94 2.06.94-2.06 2.06-.94-2.06-.94-.94-2.06-.94 2.06-2.06.94zm-11 1L8.5 8.5l.94-2.06 2.06-.94-2.06-.94L8.5 2.5l-.94 2.06-2.06.94zm10 10l.94 2.06.94-2.06 2.06-.94-2.06-.94-.94-2.06-.94 2.06-2.06.94z\"/><path d=\"M17.41 7.96l-1.37-1.37c-.4-.4-.92-.59-1.43-.59-.52 0-1.04.2-1.43.59L10.3 9.45l-7.72 7.72c-.78.78-.78 2.05 0 2.83L4 21.41c.39.39.9.59 1.41.59.51 0 1.02-.2 1.41-.59l7.78-7.78 2.81-2.81c.8-.78.8-2.07 0-2.86zM5.41 20L4 18.59l7.72-7.72 1.47 1.35L5.41 20z\"/>\n",
              "  </svg>\n",
              "      </button>\n",
              "      \n",
              "  <style>\n",
              "    .colab-df-container {\n",
              "      display:flex;\n",
              "      flex-wrap:wrap;\n",
              "      gap: 12px;\n",
              "    }\n",
              "\n",
              "    .colab-df-convert {\n",
              "      background-color: #E8F0FE;\n",
              "      border: none;\n",
              "      border-radius: 50%;\n",
              "      cursor: pointer;\n",
              "      display: none;\n",
              "      fill: #1967D2;\n",
              "      height: 32px;\n",
              "      padding: 0 0 0 0;\n",
              "      width: 32px;\n",
              "    }\n",
              "\n",
              "    .colab-df-convert:hover {\n",
              "      background-color: #E2EBFA;\n",
              "      box-shadow: 0px 1px 2px rgba(60, 64, 67, 0.3), 0px 1px 3px 1px rgba(60, 64, 67, 0.15);\n",
              "      fill: #174EA6;\n",
              "    }\n",
              "\n",
              "    [theme=dark] .colab-df-convert {\n",
              "      background-color: #3B4455;\n",
              "      fill: #D2E3FC;\n",
              "    }\n",
              "\n",
              "    [theme=dark] .colab-df-convert:hover {\n",
              "      background-color: #434B5C;\n",
              "      box-shadow: 0px 1px 3px 1px rgba(0, 0, 0, 0.15);\n",
              "      filter: drop-shadow(0px 1px 2px rgba(0, 0, 0, 0.3));\n",
              "      fill: #FFFFFF;\n",
              "    }\n",
              "  </style>\n",
              "\n",
              "      <script>\n",
              "        const buttonEl =\n",
              "          document.querySelector('#df-7be0a379-f872-45e1-9905-e4d9834bbc3e button.colab-df-convert');\n",
              "        buttonEl.style.display =\n",
              "          google.colab.kernel.accessAllowed ? 'block' : 'none';\n",
              "\n",
              "        async function convertToInteractive(key) {\n",
              "          const element = document.querySelector('#df-7be0a379-f872-45e1-9905-e4d9834bbc3e');\n",
              "          const dataTable =\n",
              "            await google.colab.kernel.invokeFunction('convertToInteractive',\n",
              "                                                     [key], {});\n",
              "          if (!dataTable) return;\n",
              "\n",
              "          const docLinkHtml = 'Like what you see? Visit the ' +\n",
              "            '<a target=\"_blank\" href=https://colab.research.google.com/notebooks/data_table.ipynb>data table notebook</a>'\n",
              "            + ' to learn more about interactive tables.';\n",
              "          element.innerHTML = '';\n",
              "          dataTable['output_type'] = 'display_data';\n",
              "          await google.colab.output.renderOutput(dataTable, element);\n",
              "          const docLink = document.createElement('div');\n",
              "          docLink.innerHTML = docLinkHtml;\n",
              "          element.appendChild(docLink);\n",
              "        }\n",
              "      </script>\n",
              "    </div>\n",
              "  </div>\n",
              "  "
            ]
          },
          "metadata": {},
          "execution_count": 26
        }
      ]
    },
    {
      "cell_type": "code",
      "source": [
        "synthesizer.save('model_test.pkl')"
      ],
      "metadata": {
        "id": "J_HLD83kXyF3"
      },
      "execution_count": 28,
      "outputs": []
    }
  ]
}